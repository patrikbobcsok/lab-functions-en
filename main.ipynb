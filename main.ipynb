{
 "cells": [
  {
   "cell_type": "markdown",
   "metadata": {},
   "source": [
    "# Functions"
   ]
  },
  {
   "cell_type": "markdown",
   "metadata": {},
   "source": [
    "On this lab we will put to practice some of the concepts we have learned on this past few days.\n",
    "\n",
    "`NOTE: On this lab you should try to write all the functions yourself using only the most basic of python syntax and without functions such as len, count, sum, max, min, in, etc. Give it a try. 🧑🏻‍💻👩🏻‍💻`\n",
    "\n",
    "The cell after each exercise contains a few tests to check if your function works as expected."
   ]
  },
  {
   "cell_type": "code",
   "execution_count": 2,
   "metadata": {},
   "outputs": [],
   "source": [
    "from mod.testing import *\n",
    "import unittest"
   ]
  },
  {
   "cell_type": "markdown",
   "metadata": {},
   "source": [
    "## 1. Write a function that returns the greater of two numbers"
   ]
  },
  {
   "cell_type": "code",
   "execution_count": 5,
   "metadata": {},
   "outputs": [],
   "source": [
    "def greater(a,b):\n",
    "    if a > b:\n",
    "        return a\n",
    "    else:\n",
    "        return b"
   ]
  },
  {
   "cell_type": "code",
   "execution_count": 6,
   "metadata": {},
   "outputs": [
    {
     "name": "stderr",
     "output_type": "stream",
     "text": [
      "....................................................................................................\n",
      "----------------------------------------------------------------------\n",
      "Ran 100 tests in 0.046s\n",
      "\n",
      "OK\n"
     ]
    }
   ],
   "source": [
    "# This will test your function \n",
    "test_greater(greater)"
   ]
  },
  {
   "cell_type": "code",
   "execution_count": 7,
   "metadata": {},
   "outputs": [
    {
     "name": "stdout",
     "output_type": "stream",
     "text": [
      "2894\n",
      "99\n"
     ]
    }
   ],
   "source": [
    "print(greater(1200, 2894))\n",
    "print(greater(99, 23))"
   ]
  },
  {
   "cell_type": "markdown",
   "metadata": {},
   "source": [
    "## 2. Now write a function that returns the largest element on a list"
   ]
  },
  {
   "cell_type": "code",
   "execution_count": 8,
   "metadata": {},
   "outputs": [],
   "source": [
    "def largest_element(lst):\n",
    "    largest = lst[0]\n",
    "    i = 1\n",
    "    try:\n",
    "        while True:\n",
    "            if lst[i] > largest:\n",
    "                largest = lst[i]\n",
    "            i += 1\n",
    "    except IndexError:\n",
    "        return largest"
   ]
  },
  {
   "cell_type": "code",
   "execution_count": 10,
   "metadata": {},
   "outputs": [
    {
     "name": "stderr",
     "output_type": "stream",
     "text": [
      "....................................................................................................\n",
      "----------------------------------------------------------------------\n",
      "Ran 100 tests in 0.029s\n",
      "\n",
      "OK\n"
     ]
    }
   ],
   "source": [
    "# This will test your function \n",
    "test_greatest(largest_element)"
   ]
  },
  {
   "cell_type": "code",
   "execution_count": 11,
   "metadata": {},
   "outputs": [
    {
     "name": "stdout",
     "output_type": "stream",
     "text": [
      "100\n",
      "1000\n"
     ]
    }
   ],
   "source": [
    "list_1 = [20, 48, 100, 1, 2, 3, 4, 5]\n",
    "list_2 = [20, 48, 100, 1, 2, 3, 4, 5, 1000]\n",
    "\n",
    "print(largest_element(list_1))\n",
    "print(largest_element(list_2))"
   ]
  },
  {
   "cell_type": "markdown",
   "metadata": {},
   "source": [
    "## 3. Write a function that sums all the elements on a list"
   ]
  },
  {
   "cell_type": "code",
   "execution_count": 12,
   "metadata": {},
   "outputs": [],
   "source": [
    "def sum_all(lst):\n",
    "    total = 0\n",
    "    i = 0\n",
    "    try:\n",
    "        while True:\n",
    "            total += lst[i]\n",
    "            i += 1\n",
    "    except IndexError:\n",
    "        return total"
   ]
  },
  {
   "cell_type": "code",
   "execution_count": 13,
   "metadata": {
    "scrolled": true
   },
   "outputs": [
    {
     "name": "stderr",
     "output_type": "stream",
     "text": [
      "....................................................................................................\n",
      "----------------------------------------------------------------------\n",
      "Ran 100 tests in 0.028s\n",
      "\n",
      "OK\n"
     ]
    }
   ],
   "source": [
    "# This will test your function \n",
    "test_sum(sum_all)"
   ]
  },
  {
   "cell_type": "code",
   "execution_count": 14,
   "metadata": {},
   "outputs": [
    {
     "name": "stdout",
     "output_type": "stream",
     "text": [
      "144\n",
      "308\n"
     ]
    }
   ],
   "source": [
    "list3 = [49, 76, 2, 8, 9]\n",
    "list4 = [22, 11, 33, 44, 55, 66, 77]\n",
    "\n",
    "print(sum_all(list3))\n",
    "print(sum_all(list4))"
   ]
  },
  {
   "cell_type": "markdown",
   "metadata": {},
   "source": [
    "## 4. Write another function that multiplies all the elements on a list"
   ]
  },
  {
   "cell_type": "code",
   "execution_count": 15,
   "metadata": {},
   "outputs": [],
   "source": [
    "def mult_all(lst):\n",
    "    result = 1\n",
    "    i = 0\n",
    "    try:\n",
    "        while True:\n",
    "            result *= lst[i]\n",
    "            i += 1\n",
    "    except IndexError:\n",
    "        return result"
   ]
  },
  {
   "cell_type": "code",
   "execution_count": 16,
   "metadata": {
    "scrolled": true
   },
   "outputs": [
    {
     "name": "stderr",
     "output_type": "stream",
     "text": [
      "....................................................................................................\n",
      "----------------------------------------------------------------------\n",
      "Ran 100 tests in 0.029s\n",
      "\n",
      "OK\n"
     ]
    }
   ],
   "source": [
    "# This will test your function \n",
    "test_mult(mult_all)"
   ]
  },
  {
   "cell_type": "code",
   "execution_count": 17,
   "metadata": {},
   "outputs": [
    {
     "name": "stdout",
     "output_type": "stream",
     "text": [
      "1188000\n",
      "362880\n"
     ]
    }
   ],
   "source": [
    "list5 = [300,45,88]\n",
    "list6 = [1,2,3,4,5,6,7,8,9] \n",
    "\n",
    "print(mult_all(list5))\n",
    "print(mult_all(list6))"
   ]
  },
  {
   "cell_type": "markdown",
   "metadata": {},
   "source": [
    "## 5. Now combine those two ideas and write a function that receives a list and either \"+\" or \"*\" and outputs acordingly"
   ]
  },
  {
   "cell_type": "code",
   "execution_count": 18,
   "metadata": {},
   "outputs": [],
   "source": [
    "def oper_all(arr, oper = \"*\"):\n",
    "    if oper == \"*\":\n",
    "        result = 1\n",
    "        i = 0\n",
    "        try:\n",
    "            while True:\n",
    "                result = result * arr[i]\n",
    "                i = i + 1\n",
    "        except IndexError:\n",
    "            return result\n",
    "\n",
    "    elif oper == \"+\":\n",
    "        total = 0\n",
    "        i = 0\n",
    "        try:\n",
    "            while True:\n",
    "                total = total + arr[i]\n",
    "                i = i + 1\n",
    "        except IndexError:\n",
    "            return total\n",
    "\n",
    "    else:\n",
    "        return \"Invalid operation. Please use '+' for sum or '*' for multiplication.\""
   ]
  },
  {
   "cell_type": "code",
   "execution_count": 19,
   "metadata": {},
   "outputs": [
    {
     "name": "stderr",
     "output_type": "stream",
     "text": [
      "....................................................................................................\n",
      "----------------------------------------------------------------------\n",
      "Ran 100 tests in 0.030s\n",
      "\n",
      "OK\n"
     ]
    }
   ],
   "source": [
    "# This will test your function \n",
    "test_operations(oper_all)"
   ]
  },
  {
   "cell_type": "code",
   "execution_count": 20,
   "metadata": {},
   "outputs": [
    {
     "name": "stdout",
     "output_type": "stream",
     "text": [
      "120\n",
      "15\n",
      "Invalid operation. Please use '+' for sum or '*' for multiplication.\n"
     ]
    }
   ],
   "source": [
    "numbers = [1, 2, 3, 4, 5]\n",
    "\n",
    "print(oper_all(numbers, \"*\"))\n",
    "print(oper_all(numbers, \"+\"))\n",
    "print(oper_all(numbers, \"-\")) \n"
   ]
  },
  {
   "cell_type": "markdown",
   "metadata": {},
   "source": [
    "## 6. Write a function that returns the factorial of a number."
   ]
  },
  {
   "cell_type": "code",
   "execution_count": 21,
   "metadata": {},
   "outputs": [],
   "source": [
    "def factorial(n):\n",
    "    result = 1\n",
    "    i = 1\n",
    "    while i <= n:\n",
    "        result *= i\n",
    "        i += 1\n",
    "    return result"
   ]
  },
  {
   "cell_type": "code",
   "execution_count": null,
   "metadata": {},
   "outputs": [],
   "source": [
    "#factorial formula\n",
    "#n! = n * ( n - 1 ) *...*1\n",
    "\n",
    "# This code defines a function called \"factorial\" which takes an input \"n\". The function uses a for loop to iterate through the range of numbers \n",
    "# from 1 to n+1. For each number in that range, it multiplies the current value of x by the number in the range. At the end of the loop, \n",
    "# the function returns the final value of x, which will be the factorial of the input number \"n\".\n",
    "\n",
    "# The Factorial of a positive integer n is the product of all positive integers less than or equal to n. \n",
    "# For example, the factorial of 6 (written \"6!\") is 6 * 5 * 4 * 3 * 2 * 1 = 720.\n",
    "\n",
    "# So this function takes an input of any positive integer, and returns the factorial of that number."
   ]
  },
  {
   "cell_type": "code",
   "execution_count": 22,
   "metadata": {},
   "outputs": [
    {
     "name": "stderr",
     "output_type": "stream",
     "text": [
      "....................................................................................................\n",
      "----------------------------------------------------------------------\n",
      "Ran 100 tests in 0.031s\n",
      "\n",
      "OK\n"
     ]
    }
   ],
   "source": [
    "# This will test your function \n",
    "test_factorial(factorial)"
   ]
  },
  {
   "cell_type": "code",
   "execution_count": 23,
   "metadata": {},
   "outputs": [
    {
     "name": "stdout",
     "output_type": "stream",
     "text": [
      "120\n",
      "720\n",
      "3628800\n"
     ]
    }
   ],
   "source": [
    "print(factorial(5))\n",
    "print(factorial(6))\n",
    "print(factorial(10))"
   ]
  },
  {
   "cell_type": "markdown",
   "metadata": {},
   "source": [
    "## 7. Write a function that takes a list and returns a list of the unique values.\n",
    "\n",
    "`NOTE: You cannot use set. 🤔`"
   ]
  },
  {
   "cell_type": "code",
   "execution_count": 24,
   "metadata": {},
   "outputs": [],
   "source": [
    "def unique(lst_un):\n",
    "    unique_list = []\n",
    "    i = 0\n",
    "    try:\n",
    "        while True:\n",
    "            if lst_un[i] not in unique_list:\n",
    "                unique_list.append(lst_un[i])\n",
    "            i += 1\n",
    "    except IndexError:\n",
    "        return unique_list"
   ]
  },
  {
   "cell_type": "code",
   "execution_count": 25,
   "metadata": {},
   "outputs": [
    {
     "name": "stderr",
     "output_type": "stream",
     "text": [
      "....................................................................................................\n",
      "----------------------------------------------------------------------\n",
      "Ran 100 tests in 0.038s\n",
      "\n",
      "OK\n"
     ]
    }
   ],
   "source": [
    "# This will test your function \n",
    "test_unique(unique)"
   ]
  },
  {
   "cell_type": "code",
   "execution_count": 26,
   "metadata": {},
   "outputs": [
    {
     "data": {
      "text/plain": [
       "[1, 2, 3, 4, 5]"
      ]
     },
     "execution_count": 26,
     "metadata": {},
     "output_type": "execute_result"
    }
   ],
   "source": [
    "list_un = [1, 2, 3, 4, 5, 1, 2, 3]\n",
    "unique(list_un)"
   ]
  },
  {
   "cell_type": "markdown",
   "metadata": {},
   "source": [
    "## 8. Write a function that returns the mode of a list, i.e.: the element that appears the most times.\n",
    "`NOTE: You should not use count... 🧐`"
   ]
  },
  {
   "cell_type": "code",
   "execution_count": 27,
   "metadata": {},
   "outputs": [],
   "source": [
    "def mode_counter(arr):\n",
    "    max_count = 0\n",
    "    mode = None\n",
    "    i = 0\n",
    "    try:\n",
    "        while True:\n",
    "            current = arr[i]\n",
    "            count = 0\n",
    "            j = 0\n",
    "            while True:\n",
    "                try:\n",
    "                    if arr[j] == current:\n",
    "                        count += 1\n",
    "                    j += 1\n",
    "                except IndexError:\n",
    "                    break\n",
    "            if count > max_count:\n",
    "                max_count = count\n",
    "                mode = current\n",
    "            i += 1\n",
    "    except IndexError:\n",
    "        return mode"
   ]
  },
  {
   "cell_type": "code",
   "execution_count": 28,
   "metadata": {},
   "outputs": [
    {
     "name": "stderr",
     "output_type": "stream",
     "text": [
      "....................................................................................................\n",
      "----------------------------------------------------------------------\n",
      "Ran 100 tests in 0.092s\n",
      "\n",
      "OK\n"
     ]
    }
   ],
   "source": [
    "# This will test your function \n",
    "test_mode(mode_counter)"
   ]
  },
  {
   "cell_type": "code",
   "execution_count": 29,
   "metadata": {},
   "outputs": [
    {
     "name": "stdout",
     "output_type": "stream",
     "text": [
      "1\n"
     ]
    }
   ],
   "source": [
    "list_mode = [1, 2, 3, 4, 5, 1, 2, 3]\n",
    "print(mode_counter(list_mode))"
   ]
  },
  {
   "cell_type": "markdown",
   "metadata": {},
   "source": [
    "## 9. Write a function that calculates the standard deviation of a list.\n",
    "`NOTE: Do not use any libraries or already built functions. 😉`"
   ]
  },
  {
   "cell_type": "code",
   "execution_count": 30,
   "metadata": {},
   "outputs": [],
   "source": [
    "def st_dev(list_sd):\n",
    "    total = 0\n",
    "    count = 0\n",
    "    i = 0\n",
    "    try:\n",
    "        while True:\n",
    "            total += list_sd[i]\n",
    "            count += 1\n",
    "            i += 1\n",
    "    except IndexError:\n",
    "        pass\n",
    "    mean = total / count\n",
    "\n",
    "    var = 0\n",
    "    i = 0\n",
    "    try:\n",
    "        while True:\n",
    "            diff = list_sd[i] - mean\n",
    "            var += diff * diff\n",
    "            i += 1\n",
    "    except IndexError:\n",
    "        pass\n",
    "    var = var / (count - 1)\n",
    "\n",
    "    if var == 0:\n",
    "        return 0.0\n",
    "\n",
    "    x = var\n",
    "    prev = 0\n",
    "    while abs(x - prev) > 0.000001:\n",
    "        prev = x\n",
    "        x = 0.5 * (x + var / x)\n",
    "\n",
    "    return x"
   ]
  },
  {
   "cell_type": "code",
   "execution_count": 31,
   "metadata": {},
   "outputs": [
    {
     "name": "stderr",
     "output_type": "stream",
     "text": [
      "....................................................................................................\n",
      "----------------------------------------------------------------------\n",
      "Ran 100 tests in 0.024s\n",
      "\n",
      "OK\n"
     ]
    }
   ],
   "source": [
    "# This will test your function \n",
    "test_stdev(st_dev)"
   ]
  },
  {
   "cell_type": "code",
   "execution_count": 32,
   "metadata": {},
   "outputs": [
    {
     "name": "stdout",
     "output_type": "stream",
     "text": [
      "Standard Deviation: 2.1380899352994294\n"
     ]
    }
   ],
   "source": [
    "numbers = [2, 4, 4, 4, 5, 5, 7, 9]\n",
    "\n",
    "result = st_dev(numbers)\n",
    "print(\"Standard Deviation:\", result)"
   ]
  },
  {
   "cell_type": "markdown",
   "metadata": {},
   "source": [
    "## 10. Write a function to check if a string is a pangram, i.e.: if it contains all the letters of the alphabet at least once. Mind that the strings may contain characters that are not letters."
   ]
  },
  {
   "cell_type": "code",
   "execution_count": 33,
   "metadata": {},
   "outputs": [],
   "source": [
    "def pangram(string):\n",
    "    alphabet = \"abcdefghijklmnopqrstuvwxyz\"\n",
    "    found = \"\"\n",
    "\n",
    "    i = 0\n",
    "    try:\n",
    "        while True:\n",
    "            c = string[i].lower()\n",
    "\n",
    "            j = 0\n",
    "            is_letter = False\n",
    "            try:\n",
    "                while True:\n",
    "                    if alphabet[j] == c:\n",
    "                        is_letter = True\n",
    "                        break\n",
    "                    j += 1\n",
    "            except IndexError:\n",
    "                pass\n",
    "\n",
    "            j = 0\n",
    "            already_found = False\n",
    "            try:\n",
    "                while True:\n",
    "                    if found[j] == c:\n",
    "                        already_found = True\n",
    "                        break\n",
    "                    j += 1\n",
    "            except IndexError:\n",
    "                pass\n",
    "\n",
    "            if is_letter and not already_found:\n",
    "                found = found + c\n",
    "            i += 1\n",
    "    except IndexError:\n",
    "        pass\n",
    "\n",
    "    count = 0\n",
    "    try:\n",
    "        while True:\n",
    "            found[count]\n",
    "            count += 1\n",
    "    except IndexError:\n",
    "        pass\n",
    "\n",
    "    return count == 26"
   ]
  },
  {
   "cell_type": "code",
   "execution_count": 34,
   "metadata": {},
   "outputs": [
    {
     "name": "stderr",
     "output_type": "stream",
     "text": [
      "..............................\n",
      "----------------------------------------------------------------------\n",
      "Ran 30 tests in 0.016s\n",
      "\n",
      "OK\n"
     ]
    }
   ],
   "source": [
    "# This will test your function \n",
    "test_pangram(pangram)"
   ]
  },
  {
   "cell_type": "code",
   "execution_count": 36,
   "metadata": {},
   "outputs": [
    {
     "name": "stdout",
     "output_type": "stream",
     "text": [
      "True\n",
      "False\n"
     ]
    }
   ],
   "source": [
    "sentence1 = \"Pack my box with five dozen liquor jugs!\"\n",
    "print(pangram(sentence1))\n",
    "\n",
    "sentence2 = \"\"\n",
    "print(pangram(sentence2))"
   ]
  },
  {
   "cell_type": "markdown",
   "metadata": {},
   "source": [
    "## 11. Write a function that receives a string of comma separated words and returns a string of comma separated words sorted alphabetically.\n",
    "\n",
    "`NOTE: You may use sorted but not split and definitely no join! 🤪`"
   ]
  },
  {
   "cell_type": "code",
   "execution_count": 37,
   "metadata": {},
   "outputs": [],
   "source": [
    "def sort_alpha(string):\n",
    "    words = []\n",
    "    word = \"\"\n",
    "    i = 0\n",
    "    try:\n",
    "        while True:\n",
    "            if string[i] == \",\":\n",
    "                words.append(word)\n",
    "                word = \"\"\n",
    "            else:\n",
    "                word = word + string[i]\n",
    "            i += 1\n",
    "    except IndexError:\n",
    "        words.append(word)\n",
    "\n",
    "    sorted_words = sorted(words)\n",
    "\n",
    "    result = \"\"\n",
    "    i = 0\n",
    "    try:\n",
    "        while True:\n",
    "            result = result + sorted_words[i]\n",
    "            \n",
    "            size = 0\n",
    "            try:\n",
    "                while True:\n",
    "                    sorted_words[size]\n",
    "                    size += 1\n",
    "            except IndexError:\n",
    "                pass\n",
    "\n",
    "            if i != size - 1:\n",
    "                result = result + \",\"\n",
    "            i += 1\n",
    "    except IndexError:\n",
    "        pass\n",
    "\n",
    "    return result"
   ]
  },
  {
   "cell_type": "code",
   "execution_count": 38,
   "metadata": {},
   "outputs": [
    {
     "name": "stderr",
     "output_type": "stream",
     "text": [
      "....................................................................................................\n",
      "----------------------------------------------------------------------\n",
      "Ran 100 tests in 0.029s\n",
      "\n",
      "OK\n"
     ]
    }
   ],
   "source": [
    "# This will test your function \n",
    "test_alpha(sort_alpha)"
   ]
  },
  {
   "cell_type": "code",
   "execution_count": 39,
   "metadata": {},
   "outputs": [
    {
     "name": "stdout",
     "output_type": "stream",
     "text": [
      "apple,banana,kiwi,orange\n",
      "apple,banana,grape,kiwi\n"
     ]
    }
   ],
   "source": [
    "example1 = \"banana,apple,orange,kiwi\"\n",
    "print(sort_alpha(example1))\n",
    "example2 = \"grape,kiwi,apple,banana\"\n",
    "print(sort_alpha(example2))"
   ]
  },
  {
   "cell_type": "markdown",
   "metadata": {},
   "source": [
    "## 12. Write a function to check if a given password is strong (at least 8 characters, at least one lower case, at least one upper case, at least one number and at least one special character). It should output True if strong and False if not."
   ]
  },
  {
   "cell_type": "code",
   "execution_count": 40,
   "metadata": {},
   "outputs": [],
   "source": [
    "def check_pass(password):\n",
    "    length = 0\n",
    "    try:\n",
    "        while True:\n",
    "            _ = password[length]\n",
    "            length += 1\n",
    "    except IndexError:\n",
    "        pass\n",
    "\n",
    "    if length < 8:\n",
    "        return False\n",
    "    \n",
    "    has_lower = False\n",
    "    has_upper = False\n",
    "    has_digit = False\n",
    "    has_special = False\n",
    "\n",
    "    i = 0\n",
    "    try:\n",
    "        while True:\n",
    "            c = password[i]\n",
    "            if c >= 'a' and c <= 'z':\n",
    "                has_lower = True\n",
    "            elif c >= 'A' and c <= 'Z':\n",
    "                has_upper = True\n",
    "            elif c >= '0' and c <= '9':\n",
    "                has_digit = True\n",
    "            else:\n",
    "                has_special = True\n",
    "            i += 1\n",
    "    except IndexError:\n",
    "        pass\n",
    "\n",
    "    return has_lower and has_upper and has_digit and has_special"
   ]
  },
  {
   "cell_type": "code",
   "execution_count": 41,
   "metadata": {},
   "outputs": [
    {
     "name": "stderr",
     "output_type": "stream",
     "text": [
      "....................................................................................................\n",
      "----------------------------------------------------------------------\n",
      "Ran 100 tests in 0.029s\n",
      "\n",
      "OK\n"
     ]
    }
   ],
   "source": [
    "# This will test your function \n",
    "test_pass(check_pass)"
   ]
  },
  {
   "cell_type": "code",
   "execution_count": 42,
   "metadata": {},
   "outputs": [
    {
     "name": "stdout",
     "output_type": "stream",
     "text": [
      "True\n",
      "False\n"
     ]
    }
   ],
   "source": [
    "password1 = \"Password123!\"\n",
    "print(check_pass(password1)) \n",
    "password2 = \"password123\"\n",
    "print(check_pass(password2))"
   ]
  }
 ],
 "metadata": {
  "kernelspec": {
   "display_name": "ironhack",
   "language": "python",
   "name": "python3"
  },
  "language_info": {
   "codemirror_mode": {
    "name": "ipython",
    "version": 3
   },
   "file_extension": ".py",
   "mimetype": "text/x-python",
   "name": "python",
   "nbconvert_exporter": "python",
   "pygments_lexer": "ipython3",
   "version": "3.10.18"
  }
 },
 "nbformat": 4,
 "nbformat_minor": 4
}
